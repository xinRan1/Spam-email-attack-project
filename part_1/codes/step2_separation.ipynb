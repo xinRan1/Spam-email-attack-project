{
 "cells": [
  {
   "cell_type": "markdown",
   "metadata": {},
   "source": [
    "# File separation\n",
    "\n",
    "separate each email into json file."
   ]
  },
  {
   "cell_type": "code",
   "execution_count": 1,
   "metadata": {},
   "outputs": [],
   "source": [
    "import tika\n",
    "import json\n",
    "import os\n",
    "from tika import unpack, parser"
   ]
  },
  {
   "cell_type": "code",
   "execution_count": 2,
   "metadata": {},
   "outputs": [
    {
     "name": "stdout",
     "output_type": "stream",
     "text": [
      "success: 3992\n",
      "failed: 0\n"
     ]
    }
   ],
   "source": [
    "\"\"\"create 'separate file' folder if it doesn't exist\"\"\"\n",
    "cwd = os.getcwd() # use current working directory\n",
    "OSpath = cwd + '/separate file/'## where separated file will be saved\n",
    "if not os.path.exists(OSpath): # create folder if it doesn't exist\n",
    "    os.makedirs(OSpath)\n",
    "\n",
    "with open('fradulent_emails_preprocessing.txt_meta.json',\"r\",encoding=\"utf8\") as f:\n",
    "    json_obj_list = json.load(f) # Read the file and convert it to a dictionary\n",
    "    length = len(json_obj_list) # have to use len instead of key function because this is a list\n",
    "    #the first one is 0 instead of 1\n",
    "    i = 0\n",
    "    s = 0 ## to count failed file\n",
    "    f = 0 ## to count failed file\n",
    "\n",
    "while (i < length):\n",
    "    filename = OSpath + str(i) + '.json' # each email filename with its path\n",
    "    json_obj = json_obj_list[i]\n",
    "    try:\n",
    "        parsed = parser.from_buffer(string=json_obj['X-TIKA:content']) ## added unpack code for each json file\n",
    "        with open(filename, 'w') as out_json_file:\n",
    "            json.dump(parsed, out_json_file)\n",
    "        s += 1\n",
    "    except:\n",
    "        print(\"failed to create \", i, \"file\")\n",
    "        f += 1\n",
    "    i += 1\n",
    "print(\"success:\", s)\n",
    "print(\"failed:\", f)"
   ]
  },
  {
   "cell_type": "code",
   "execution_count": null,
   "metadata": {},
   "outputs": [],
   "source": []
  },
  {
   "cell_type": "code",
   "execution_count": null,
   "metadata": {},
   "outputs": [],
   "source": []
  },
  {
   "cell_type": "code",
   "execution_count": null,
   "metadata": {},
   "outputs": [],
   "source": []
  },
  {
   "cell_type": "code",
   "execution_count": null,
   "metadata": {},
   "outputs": [],
   "source": []
  },
  {
   "cell_type": "code",
   "execution_count": null,
   "metadata": {},
   "outputs": [],
   "source": []
  }
 ],
 "metadata": {
  "kernelspec": {
   "display_name": "Python 3",
   "language": "python",
   "name": "python3"
  },
  "language_info": {
   "codemirror_mode": {
    "name": "ipython",
    "version": 3
   },
   "file_extension": ".py",
   "mimetype": "text/x-python",
   "name": "python",
   "nbconvert_exporter": "python",
   "pygments_lexer": "ipython3",
   "version": "3.7.8"
  }
 },
 "nbformat": 4,
 "nbformat_minor": 4
}

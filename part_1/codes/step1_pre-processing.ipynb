{
 "cells": [
  {
   "cell_type": "markdown",
   "metadata": {},
   "source": [
    "# Pre-processing\n",
    "\n",
    "Here, we deleted several emails extracted from tika parser which,\n",
    "1. email without \"X-TIKA:content\"\n",
    "2. email with \"X-TIKA:content\", but no content in it"
   ]
  },
  {
   "cell_type": "code",
   "execution_count": 1,
   "metadata": {},
   "outputs": [],
   "source": [
    "import json \n",
    "from tika import parser\n",
    "\n",
    "def convert(file_name):\n",
    "    \"\"\"convert content in .txt file into .csv file.\n",
    "    file_name string\"\"\"\n",
    "    with open(file_name,\"r\",encoding=\"utf8\") as file:\n",
    "        emails = json.load(file)\n",
    "\n",
    "    # list of emails for total json file\n",
    "    jsonData = []\n",
    "    # the first element in emails is the metadata of the input txt file,\n",
    "    # so we only records contents in the rest of emails\n",
    "    for email in emails[1:]:\n",
    "        try:\n",
    "            # if the key \"content\" from parsed value exist, keep 'emails' value. \n",
    "            content = parser.from_buffer(email['X-TIKA:content'])['content'] \n",
    "            if content is None: # if content doesn't exist, don't add this email to jsonData\n",
    "                continue\n",
    "        except KeyError as e:\n",
    "            continue\n",
    "        else:\n",
    "            jsonData.append(email)\n",
    "    return jsonData\n",
    "\n"
   ]
  },
  {
   "cell_type": "code",
   "execution_count": 2,
   "metadata": {},
   "outputs": [],
   "source": [
    "# pls edit the file path     \n",
    "file_name = 'fradulent_emails.txt_meta.json'\n",
    "newJson = convert(file_name)\n",
    "\n",
    "with open(\"fradulent_emails_preprocessing.txt_meta.json\", 'w') as out_json_file:\n",
    "    json.dump(newJson, out_json_file)"
   ]
  },
  {
   "cell_type": "code",
   "execution_count": 3,
   "metadata": {},
   "outputs": [
    {
     "name": "stdout",
     "output_type": "stream",
     "text": [
      "3992\n"
     ]
    }
   ],
   "source": [
    "print(len(newJson)) # total number of email extracted"
   ]
  }
 ],
 "metadata": {
  "kernelspec": {
   "display_name": "Python 3",
   "language": "python",
   "name": "python3"
  },
  "language_info": {
   "codemirror_mode": {
    "name": "ipython",
    "version": 3
   },
   "file_extension": ".py",
   "mimetype": "text/x-python",
   "name": "python",
   "nbconvert_exporter": "python",
   "pygments_lexer": "ipython3",
   "version": "3.7.8"
  }
 },
 "nbformat": 4,
 "nbformat_minor": 4
}
